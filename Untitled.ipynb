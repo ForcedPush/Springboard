{
 "cells": [
  {
   "cell_type": "code",
   "execution_count": 15,
   "id": "female-coast",
   "metadata": {},
   "outputs": [],
   "source": [
    "data = [(2, 100), (4, 7), (8, 11), (3, 6)]"
   ]
  },
  {
   "cell_type": "code",
   "execution_count": 49,
   "id": "digital-smell",
   "metadata": {},
   "outputs": [
    {
     "name": "stdout",
     "output_type": "stream",
     "text": [
      "[(2, 1.0638297872340425), (4, 0.07446808510638298), (8, 0.11702127659574468), (3, 0.06382978723404255)]\n"
     ]
    }
   ],
   "source": [
    "maxObs = max(data, key=lambda x: x[1])[1]\n",
    "minObs = min(data, key=lambda x: x[1])[1]\n",
    "\n",
    "x = zip(map(lambda x: x[0], data), map(lambda x: x[1] / (maxObs - minObs), data))\n",
    "print(list(x))"
   ]
  },
  {
   "cell_type": "code",
   "execution_count": null,
   "id": "native-freedom",
   "metadata": {},
   "outputs": [],
   "source": []
  },
  {
   "cell_type": "code",
   "execution_count": null,
   "id": "relative-mills",
   "metadata": {},
   "outputs": [],
   "source": []
  }
 ],
 "metadata": {
  "kernelspec": {
   "display_name": "Python 3",
   "language": "python",
   "name": "python3"
  },
  "language_info": {
   "codemirror_mode": {
    "name": "ipython",
    "version": 3
   },
   "file_extension": ".py",
   "mimetype": "text/x-python",
   "name": "python",
   "nbconvert_exporter": "python",
   "pygments_lexer": "ipython3",
   "version": "3.9.1"
  }
 },
 "nbformat": 4,
 "nbformat_minor": 5
}
