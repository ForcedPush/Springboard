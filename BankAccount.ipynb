{
 "cells": [
  {
   "cell_type": "markdown",
   "id": "funky-convention",
   "metadata": {},
   "source": [
    "Included classes:\n",
    "    \n",
    "    - Bank Account\n",
    "    - Checking(Bank Account)\n",
    "    - Savings(Bank Account)\n",
    "    \n",
    "    - Person\n",
    "    - Customer(Person)\n",
    "    - Employee(Person)\n",
    "    \n",
    "    - Service\n",
    "    - Loan(Service, BankAccount)\n",
    "    - Credit Card(Service, Bank Account)\n",
    "    \n"
   ]
  },
  {
   "cell_type": "markdown",
   "id": "crazy-screw",
   "metadata": {},
   "source": []
  },
  {
   "cell_type": "code",
   "execution_count": null,
   "id": "fewer-bryan",
   "metadata": {},
   "outputs": [],
   "source": [
    "class BankAccount:\n",
    "    def __init__(self):\n",
    "        self.balance = 100\n",
    "    \n",
    "    def withdraw(self):\n",
    "        inputString = input(\"Amount to withdraw: \")\n",
    "        amount = [int(inputString) for s in inputString.split() if s.isdigit()][0]\n",
    "        if amount > self.balance:\n",
    "            print(\"Insufficient funds\")\n",
    "        else:\n",
    "            print(amount)\n",
    "            self.balance = self.balance - amount\n",
    "        return self.balance\n",
    "    \n",
    "    def deposit(self):\n",
    "        inputString = input(\"Amount to deposit: \")\n",
    "        amount = [int(inputString) for s in inputString.split() if s.isdigit()][0]\n",
    "        self.balance += amount\n",
    "        return self.balance\n",
    "    \n",
    "    def checkBalance(self):\n",
    "        inputString = input(\"check balance?\")\n",
    "        if not(inputString.lower in ['y', 'yes']):\n",
    "            print(\"Account Balance: \", self.balance)\n",
    "        else:\n",
    "            print(\"Thanks!\")"
   ]
  },
  {
   "cell_type": "code",
   "execution_count": 51,
   "id": "tired-demonstration",
   "metadata": {},
   "outputs": [],
   "source": [
    "class Checking(BankAccount):\n",
    "    def withdrawl(self):\n",
    "        inputString = input(\"Is this bank in your network?\")\n",
    "        if not (inputString.lower in ['y', 'yes', 'n', 'no']):\n",
    "            print(\"answer not recognized\")\n",
    "        if inputString.lower in ['n', 'no']:\n",
    "            return super(Checking, self).withdraw() + 1\n",
    "        else:\n",
    "            return super(Checking, self).withdraw()\n",
    "        "
   ]
  },
  {
   "cell_type": "code",
   "execution_count": 54,
   "id": "hidden-statistics",
   "metadata": {},
   "outputs": [],
   "source": [
    "class Savings(BankAccount):\n",
    "    def deposit(self):\n",
    "        return super(Savings, self).deposit() * 0.15"
   ]
  },
  {
   "cell_type": "code",
   "execution_count": 57,
   "id": "presidential-theology",
   "metadata": {},
   "outputs": [],
   "source": [
    "class Person:\n",
    "    def __init__(self, firstname, lastname, address, networth):\n",
    "        self.fisrtname = firstname\n",
    "        self.lastname = lastname\n",
    "        self.address = address\n",
    "        self.networth = networth\n",
    "        \n",
    "    def openAccount(self):\n",
    "        inputString = input(\"Do you want to open a checking or savings account?\")\n",
    "        if not (inputString.lower in [\"c\", \"1\", \"checking\", \"s\", \"2\", \"savings\"]):\n",
    "            print(\"unable to process input\")\n",
    "        account = [inputString for s in inputString.split() if s.isstring()][0]\n",
    "        isChecking = True if account.lower in [\"c\", \"1\", \"checking\"] else False\n",
    "        if isChecking:\n",
    "            account = Checking()\n",
    "        else:\n",
    "            account = Savings()\n",
    "        "
   ]
  },
  {
   "cell_type": "code",
   "execution_count": 58,
   "id": "biblical-litigation",
   "metadata": {},
   "outputs": [],
   "source": [
    "class Customer(Person):\n",
    "    def __init__(self, firstname, lastname, address, networth, accounts):\n",
    "        Person.__init__(self, firstname, lastname, address)\n",
    "        self.networth = networth\n",
    "        self.accounts = accounts\n",
    "        \n",
    "    def showAccounts(self):\n",
    "        if self.accounts:\n",
    "            for account in accounts:\n",
    "                print(account)\n",
    "        else:\n",
    "            print(\"This customer has no accounts\")"
   ]
  },
  {
   "cell_type": "code",
   "execution_count": 59,
   "id": "sacred-tribe",
   "metadata": {},
   "outputs": [],
   "source": [
    "class Employee(Person):\n",
    "    def __init__(self, firstname, lastname, address, salary):\n",
    "        Person.__init__(self, firstname, lastname, address)\n",
    "        self.salary = salary\n",
    "        \n",
    "    def giveRaise(self):\n",
    "        inputString = input(\"How much is the raise?\")\n",
    "        amount = [int(inputString) for s in inputString.split() if s.isdigit()][0]\n",
    "        self.salary = self.salary + amount\n",
    "        return self.salary"
   ]
  },
  {
   "cell_type": "code",
   "execution_count": 60,
   "id": "processed-exhibition",
   "metadata": {},
   "outputs": [],
   "source": [
    "class Service:\n",
    "    def __init__(self):\n",
    "        self.services = [\"Loan\", \"Credit Card\"]\n",
    "        "
   ]
  },
  {
   "cell_type": "code",
   "execution_count": null,
   "id": "recreational-madness",
   "metadata": {},
   "outputs": [],
   "source": [
    "class Loan(Service, BankAccount):\n",
    "    def __init__(self):\n",
    "        self.loanAmount = 50\n",
    "        \n",
    "    def loan(self):\n",
    "        return super(Loan, self).deposit() + self.loanAmount"
   ]
  },
  {
   "cell_type": "code",
   "execution_count": null,
   "id": "wound-recovery",
   "metadata": {},
   "outputs": [],
   "source": [
    "class CreditCard(Service, BankAccount):\n",
    "    def __init__(self):\n",
    "        self.paymentAmount = 50\n",
    "    \n",
    "    def makePayment(self):\n",
    "        return super(CreditCard, self).withdraw() - self.paymentAmount"
   ]
  }
 ],
 "metadata": {
  "kernelspec": {
   "display_name": "Python 3",
   "language": "python",
   "name": "python3"
  },
  "language_info": {
   "codemirror_mode": {
    "name": "ipython",
    "version": 3
   },
   "file_extension": ".py",
   "mimetype": "text/x-python",
   "name": "python",
   "nbconvert_exporter": "python",
   "pygments_lexer": "ipython3",
   "version": "3.9.1"
  }
 },
 "nbformat": 4,
 "nbformat_minor": 5
}
